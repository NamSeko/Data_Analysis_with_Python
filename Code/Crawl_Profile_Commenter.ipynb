{
 "cells": [
  {
   "cell_type": "code",
   "execution_count": 2,
   "metadata": {},
   "outputs": [
    {
     "name": "stderr",
     "output_type": "stream",
     "text": [
      "c:\\Users\\tienn\\AppData\\Local\\Programs\\Python\\Python311\\Lib\\site-packages\\tqdm\\auto.py:21: TqdmWarning: IProgress not found. Please update jupyter and ipywidgets. See https://ipywidgets.readthedocs.io/en/stable/user_install.html\n",
      "  from .autonotebook import tqdm as notebook_tqdm\n"
     ]
    }
   ],
   "source": [
    "import numpy as np\n",
    "import pandas as pd\n",
    "from facebook_scraper import get_profile"
   ]
  },
  {
   "cell_type": "code",
   "execution_count": 3,
   "metadata": {},
   "outputs": [],
   "source": [
    "# post_list = np.load('../Data/Data.npy', allow_pickle=True)\n",
    "# post_list = post_list.tolist()\n",
    "# # Lấy đường dẫn của người comment(người theo dõi bài viết)\n",
    "# commenter_url = []\n",
    "# for post in post_list:\n",
    "#     if len(post['comments_full'])>0:\n",
    "#         for url in post['comments_full']:\n",
    "#             s = url['commenter_url']\n",
    "#             s = s[21:]\n",
    "#             # print(s)\n",
    "#             commenter_url.append(s)\n",
    "# commenter = []\n",
    "# for people in commenter_url:\n",
    "#     x = people.split('?')\n",
    "#     commenter.append(x[0])\n",
    "# commenters = []\n",
    "\n",
    "# for x in commenter:\n",
    "#     if x not in commenters:\n",
    "#         commenters.append(x)\n",
    "# commenters.remove('runyouredmxyz')"
   ]
  },
  {
   "cell_type": "markdown",
   "metadata": {},
   "source": [
    "Lấy full id"
   ]
  },
  {
   "cell_type": "code",
   "execution_count": 4,
   "metadata": {},
   "outputs": [],
   "source": [
    "post_list = np.load('../Data/Data.npy', allow_pickle=True)\n",
    "post_list = post_list.tolist()\n",
    "# Lấy đường dẫn của người comment(người theo dõi bài viết)\n",
    "commenter_id = []\n",
    "for post in post_list:\n",
    "    if len(post['comments_full'])>0:\n",
    "        for url in post['comments_full']:\n",
    "            s = url['commenter_id']\n",
    "            # print(s)\n",
    "            commenter_id.append(s)\n",
    "id = []\n",
    "for x in commenter_id:\n",
    "    if x not in id:\n",
    "        id.append(x)\n",
    "id.remove('100064388701111')"
   ]
  },
  {
   "cell_type": "markdown",
   "metadata": {},
   "source": [
    "Lấy profile các lần tiếp theo"
   ]
  },
  {
   "cell_type": "code",
   "execution_count": 5,
   "metadata": {},
   "outputs": [],
   "source": [
    "id2 = []\n",
    "check=False\n",
    "for ids in id:\n",
    "    if check:\n",
    "        id2.append(ids)\n",
    "    if ids == '100085888793283':\n",
    "        check = True"
   ]
  },
  {
   "cell_type": "code",
   "execution_count": 6,
   "metadata": {},
   "outputs": [],
   "source": [
    "COOKIE_PATH = \"../Data/www.facebook.com_cookies1.txt\"\n",
    "FOLDER_PATH = \"../Data/\""
   ]
  },
  {
   "cell_type": "code",
   "execution_count": null,
   "metadata": {},
   "outputs": [],
   "source": [
    "profile_list = []\n",
    "for i in range(len(id2)):\n",
    "    profile = get_profile(str(id2[i]), cookies=COOKIE_PATH)\n",
    "    print(profile)\n",
    "    profile_list.append(profile)"
   ]
  },
  {
   "cell_type": "code",
   "execution_count": null,
   "metadata": {},
   "outputs": [],
   "source": [
    "# Khởi tạo DataFrame\n",
    "data = pd.DataFrame(columns=profile_list[1].keys(), index=range(len(profile_list)), data=profile_list)\n",
    "\n",
    "FILE_NAME = FOLDER_PATH + 'Data_Profile4'\n",
    "# Chuyển dữ liệu sang file csv, xlsx,... để dẽ thao tác với dữ liệu\n",
    "path1=FILE_NAME + \".csv\"\n",
    "data.to_csv(path1, index=False)\n",
    "print(path1)"
   ]
  }
 ],
 "metadata": {
  "kernelspec": {
   "display_name": "Python 3",
   "language": "python",
   "name": "python3"
  },
  "language_info": {
   "codemirror_mode": {
    "name": "ipython",
    "version": 3
   },
   "file_extension": ".py",
   "mimetype": "text/x-python",
   "name": "python",
   "nbconvert_exporter": "python",
   "pygments_lexer": "ipython3",
   "version": "3.11.6"
  }
 },
 "nbformat": 4,
 "nbformat_minor": 2
}
